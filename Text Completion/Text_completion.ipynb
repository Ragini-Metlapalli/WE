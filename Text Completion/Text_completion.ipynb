{
  "nbformat": 4,
  "nbformat_minor": 0,
  "metadata": {
    "colab": {
      "provenance": []
    },
    "kernelspec": {
      "name": "python3",
      "display_name": "Python 3"
    },
    "language_info": {
      "name": "python"
    }
  },
  "cells": [
    {
      "cell_type": "code",
      "source": [
        "import random\n",
        "\n",
        "def generate(filename: str, start_words: list[str], chain_length: int, num_generated: int) -> str:\n",
        "  \"\"\"\n",
        "  This function generates text similar to the text in a file, following Markov chains.\n",
        "\n",
        "  Args:\n",
        "      filename: The name of the file to read the text from.\n",
        "      start_words: A list of words to start the generated text with (must be same length as chain_length).\n",
        "      chain_length: The number of words to consider when predicting the next word.\n",
        "      num_generated: The number of words to generate in the output sentence.\n",
        "\n",
        "  Returns:\n",
        "      A sentence generated using the Markov chain model, num_generated words long.\n",
        "  \"\"\"\n",
        "\n",
        "  # Read text from file and preprocess\n",
        "  with open(filename, 'r') as f:\n",
        "    text = f.read().lower().strip()  # Convert to lowercase and remove extra spaces\n",
        "\n",
        "  # Split text into words and create a dictionary to store transitions\n",
        "  words = text.split()\n",
        "  word_dict = {}\n",
        "  for i in range(len(words) - chain_length):\n",
        "    key = tuple(words[i:i + chain_length])  # Create a tuple as the key for the chain\n",
        "    if key not in word_dict:\n",
        "      word_dict[key] = []\n",
        "    word_dict[key].append(words[i + chain_length])  # Append the following word\n",
        "\n",
        "  # Check if start_words length matches chain_length\n",
        "  if len(start_words) != chain_length:\n",
        "    raise ValueError(\"start_words list must be the same length as chain_length\")\n",
        "\n",
        "  # Generate the text using Markov chain\n",
        "  generated_text = start_words\n",
        "  for _ in range(num_generated):\n",
        "    previous_words = tuple(generated_text[-chain_length:])\n",
        "    if previous_words not in word_dict:\n",
        "      # If the sequence is not found, randomly choose a word from the entire vocabulary\n",
        "      next_word = random.choice(words)\n",
        "    else:\n",
        "      next_word = random.choice(word_dict[previous_words])\n",
        "    generated_text.append(next_word)\n",
        "\n",
        "  return \" \".join(generated_text)\n",
        "\n",
        "# Explanation for start_words length\n",
        "# The reason why start_words must be the same length as chain_length is because the Markov chain model predicts the next word based on a sequence of previous words. The chain_length defines how many previous words are considered for this prediction.\n",
        "\n",
        "# If the length of start_words is less than chain_length, there won't be enough context to predict the first word using the Markov chain. Similarly, if it's longer, it won't match the expected sequence length for the model. By keeping them the same size, we ensure a valid starting point for the text generation process.\n"
      ],
      "metadata": {
        "id": "8HoSTA7gp0QK"
      },
      "execution_count": null,
      "outputs": []
    },
    {
      "cell_type": "code",
      "source": [
        "# Define filename, start_words, chain_length, and num_generated\n",
        "filename = \"file.txt\" # Replace with your file path\n",
        "start_words = [\"The\", \"weather\", \"is\"]  # Must be same length as chain_length\n",
        "chain_length = 3\n",
        "num_generated = 10\n",
        "\n",
        "# Call the generate function\n",
        "generated_text = generate(filename, start_words, chain_length, num_generated - len(start_words))\n",
        "\n",
        "# Print the generated text\n",
        "print(generated_text)\n"
      ],
      "metadata": {
        "colab": {
          "base_uri": "https://localhost:8080/"
        },
        "id": "KTLhNyuTqxLE",
        "outputId": "a16142a6-af1a-4598-a8df-bde0a86d16cd"
      },
      "execution_count": null,
      "outputs": [
        {
          "output_type": "stream",
          "name": "stdout",
          "text": [
            "The weather is for lately. in the shining throughout in\n"
          ]
        }
      ]
    },
    {
      "cell_type": "code",
      "source": [
        "filename = \"short_text.txt\"  # Content: The quick brown fox jumps over the lazy dog.\n",
        "start_words = [\"The\"]\n",
        "chain_length = 1\n",
        "num_generated = 2\n",
        "\n",
        "generated_text = generate(filename, start_words, chain_length, num_generated - len(start_words))\n",
        "print(generated_text)  # Expected output: quick OR lazy (depending on random choice)\n",
        "\n",
        "# Test Case Verdict: Pass (if the generated text is a single word that could follow \"The\" in the source text)"
      ],
      "metadata": {
        "colab": {
          "base_uri": "https://localhost:8080/"
        },
        "id": "gam2ynKc303x",
        "outputId": "c7d1c1fd-1a18-4ef6-8c05-58b012144df0"
      },
      "execution_count": null,
      "outputs": [
        {
          "output_type": "stream",
          "name": "stdout",
          "text": [
            "The lazy\n"
          ]
        }
      ]
    },
    {
      "cell_type": "code",
      "source": [
        "def run_test_case(filename, start_words, chain_length, num_generated, expected_start):\n",
        "  try:\n",
        "    generated_text = generate(filename, start_words, chain_length, num_generated)\n",
        "    if generated_text.startswith(expected_start):\n",
        "      print(f\"Test Case Passed: Generated text starts with '{expected_start}'.\")\n",
        "      print(\"generated text: \",generated_text)\n",
        "    else:\n",
        "      print(f\"Test Case Failed: Expected start '{expected_start}' not found in generated text.\")\n",
        "  except ValueError as e:\n",
        "    print(f\"Error: {e}\")\n",
        "\n",
        "# Test Case 1: Simple Text with Short Chain Length (Incorrect Start Words Length)\n",
        "filename = \"short_text.txt\"  # Content: The quick brown fox jumps over the lazy dog.\n",
        "start_words = [\"The\"]  # Incorrect length (should be 1)\n",
        "chain_length = 1\n",
        "num_generated = 1\n",
        "expected_start = \"The\"\n",
        "run_test_case(filename, start_words, chain_length, num_generated - len(start_words), expected_start)\n",
        "\n",
        "\n",
        "# Test Case 2: Text with Repeated Phrases with Short Chain Length (Valid Start Words)\n",
        "filename = \"repeated_phrases.txt\"  # Content: I like pizza. I like pizza with cheese. I like pizza with cheese and pepperoni.\n",
        "start_words = [\"I\", \"like\"]\n",
        "chain_length = 1\n",
        "num_generated = 1\n",
        "expected_start = \"I like\"\n",
        "run_test_case(filename, start_words, chain_length, num_generated - len(start_words), expected_start)\n",
        "\n",
        "# Test Case 3: Text with Longer Chain Length (Valid Start Words)\n",
        "filename = \"file.txt\"  # Use the sample text provided earlier describing various weather conditions\n",
        "start_words = [\"The\", \"weather\", \"is\"]\n",
        "chain_length = 3\n",
        "num_generated = 5\n",
        "expected_start = \"The weather is\"\n",
        "run_test_case(filename, start_words, chain_length, num_generated - len(start_words), expected_start)\n",
        "\n",
        "# Test Case 4: Text with Unseen Words\n",
        "filename = \"news_article.txt\"  # Use a real news article with diverse vocabulary\n",
        "start_words = [\"The\", \"government\", \"announced\"]\n",
        "chain_length = 3\n",
        "num_generated = 3\n",
        "expected_start = \"The government announced\"\n",
        "run_test_case(filename, start_words, chain_length, num_generated - len(start_words), expected_start)\n"
      ],
      "metadata": {
        "colab": {
          "base_uri": "https://localhost:8080/"
        },
        "id": "yRpuNBlI6nhg",
        "outputId": "c87e42ed-bff5-4d71-867a-8a6e25eddb3e"
      },
      "execution_count": null,
      "outputs": [
        {
          "output_type": "stream",
          "name": "stdout",
          "text": [
            "Test Case Passed: Generated text starts with 'The'.\n",
            "generated text:  The\n",
            "Error: start_words list must be the same length as chain_length\n",
            "Test Case Passed: Generated text starts with 'The weather is'.\n",
            "generated text:  The weather is the difficult\n",
            "Test Case Passed: Generated text starts with 'The government announced'.\n",
            "generated text:  The government announced\n"
          ]
        }
      ]
    }
  ]
}